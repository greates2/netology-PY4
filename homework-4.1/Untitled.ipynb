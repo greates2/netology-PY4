{
 "cells": [
  {
   "cell_type": "code",
   "execution_count": 34,
   "metadata": {
    "collapsed": true
   },
   "outputs": [],
   "source": [
    "import pandas as pd\n",
    "import numpy as np\n",
    "import os\n",
    "from pprint import pprint"
   ]
  },
  {
   "cell_type": "code",
   "execution_count": 32,
   "metadata": {
    "collapsed": true
   },
   "outputs": [],
   "source": [
    "def get_path():\n",
    "    source = \"names\"\n",
    "    homework_source = os.path.abspath(source)\n",
    "\n",
    "    return homework_source"
   ]
  },
  {
   "cell_type": "code",
   "execution_count": 118,
   "metadata": {
    "collapsed": true
   },
   "outputs": [],
   "source": [
    "def get_dinamyc(args):\n",
    "    cols = ['Name', 'Gender', 'Count']\n",
    "    count_childrens = dict()\n",
    "    men = list()\n",
    "    women = list()\n",
    "    for i in args:\n",
    "        names = pd.read_csv(os.path.join(get_path(), \"\", 'yob' + str(i) + '.txt'), names=cols)\n",
    "        men_count = names[names.Gender == 'M'].Count.sum()\n",
    "        men.append(men_count)\n",
    "        women_count = names[names.Gender == 'F'].Count.sum()\n",
    "        women.append(women_count)\n",
    "    count_childrens = {\"M\": men, \"F\": women}\n",
    "    \n",
    "    return count_childrens"
   ]
  },
  {
   "cell_type": "code",
   "execution_count": 131,
   "metadata": {
    "collapsed": true
   },
   "outputs": [],
   "source": [
    "def get_top(args):\n",
    "    cols = ['Name', 'Gender', 'Count']\n",
    "    d = pd.DataFrame()\n",
    "    for i in args:\n",
    "        names = pd.read_csv(os.path.join(get_path(), \"\", 'yob' + str(i) + '.txt'), names=cols)\n",
    "        d = pd.concat([d, names])\n",
    "        \n",
    "    get_top_result = d.groupby(by='Name').sum().sort_values(by='Count', ascending=False).head(3).index.tolist()\n",
    "#     get_top_result.index.tolist()\n",
    "    \n",
    "    return get_top_result"
   ]
  },
  {
   "cell_type": "code",
   "execution_count": 132,
   "metadata": {},
   "outputs": [
    {
     "data": {
      "text/plain": [
       "['John', 'William', 'Mary']"
      ]
     },
     "execution_count": 132,
     "metadata": {},
     "output_type": "execute_result"
    }
   ],
   "source": [
    "get_top([1880])"
   ]
  },
  {
   "cell_type": "code",
   "execution_count": 133,
   "metadata": {
    "scrolled": false
   },
   "outputs": [
    {
     "data": {
      "text/plain": [
       "['James', 'John', 'Robert']"
      ]
     },
     "execution_count": 133,
     "metadata": {},
     "output_type": "execute_result"
    }
   ],
   "source": [
    "get_top([1900, 1950, 2000])"
   ]
  },
  {
   "cell_type": "code",
   "execution_count": 119,
   "metadata": {},
   "outputs": [
    {
     "data": {
      "text/plain": [
       "{'F': [299810, 1713259, 1814922], 'M': [150486, 1790871, 1962744]}"
      ]
     },
     "execution_count": 119,
     "metadata": {},
     "output_type": "execute_result"
    }
   ],
   "source": [
    "get_dinamyc([1900, 1950, 2000])"
   ]
  }
 ],
 "metadata": {
  "kernelspec": {
   "display_name": "Python 3",
   "language": "python",
   "name": "python3"
  },
  "language_info": {
   "codemirror_mode": {
    "name": "ipython",
    "version": 3
   },
   "file_extension": ".py",
   "mimetype": "text/x-python",
   "name": "python",
   "nbconvert_exporter": "python",
   "pygments_lexer": "ipython3",
   "version": "3.6.1"
  }
 },
 "nbformat": 4,
 "nbformat_minor": 2
}
